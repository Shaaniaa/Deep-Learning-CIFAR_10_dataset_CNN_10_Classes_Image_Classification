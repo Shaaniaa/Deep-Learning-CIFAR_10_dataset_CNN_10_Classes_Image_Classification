{
  "nbformat": 4,
  "nbformat_minor": 0,
  "metadata": {
    "colab": {
      "name": "CIFAR-10 dataset -- CNN --10 Classes Classification.ipynb",
      "provenance": [],
      "collapsed_sections": []
    },
    "kernelspec": {
      "name": "python3",
      "display_name": "Python 3"
    },
    "language_info": {
      "name": "python"
    }
  },
  "cells": [
    {
      "cell_type": "code",
      "execution_count": 41,
      "metadata": {
        "id": "X4IU4wjOHYZV"
      },
      "outputs": [],
      "source": [
        "import tensorflow as tf\n",
        "from tensorflow.keras import datasets, layers, models\n",
        "import matplotlib.pyplot as plt\n",
        "import numpy as np"
      ]
    },
    {
      "cell_type": "code",
      "source": [
        "(X_train, y_train), (X_test,y_test) = datasets.cifar10.load_data() #50,000 trainig sample, 32x32, 3 rgb color\n",
        "X_train.shape #data sets from tensorflow\n",
        "# we are doing classification on only 10 images"
      ],
      "metadata": {
        "colab": {
          "base_uri": "https://localhost:8080/"
        },
        "id": "bv1tJk6AHeie",
        "outputId": "0aadfeeb-93e0-4553-b78d-911e9b82b74a"
      },
      "execution_count": 42,
      "outputs": [
        {
          "output_type": "execute_result",
          "data": {
            "text/plain": [
              "(50000, 32, 32, 3)"
            ]
          },
          "metadata": {},
          "execution_count": 42
        }
      ]
    },
    {
      "cell_type": "code",
      "source": [
        "X_test.shape\n"
      ],
      "metadata": {
        "colab": {
          "base_uri": "https://localhost:8080/"
        },
        "id": "SODuqVKNINwU",
        "outputId": "8b97958c-49c4-4d7f-f0fe-948b53553334"
      },
      "execution_count": 4,
      "outputs": [
        {
          "output_type": "execute_result",
          "data": {
            "text/plain": [
              "(10000, 32, 32, 3)"
            ]
          },
          "metadata": {},
          "execution_count": 4
        }
      ]
    },
    {
      "cell_type": "code",
      "source": [
        "y_train.shape #50000 samples, 1d array\n"
      ],
      "metadata": {
        "colab": {
          "base_uri": "https://localhost:8080/"
        },
        "id": "gq-oj4t5IPTr",
        "outputId": "269ad5e9-9cd0-4c3a-dadd-b50557335dbd"
      },
      "execution_count": 34,
      "outputs": [
        {
          "output_type": "execute_result",
          "data": {
            "text/plain": [
              "(50000,)"
            ]
          },
          "metadata": {},
          "execution_count": 34
        }
      ]
    },
    {
      "cell_type": "code",
      "source": [
        "y_train[:5]"
      ],
      "metadata": {
        "colab": {
          "base_uri": "https://localhost:8080/"
        },
        "id": "0FO-wVSdJmIZ",
        "outputId": "977868cc-0f05-454f-dfcd-48714792ecab"
      },
      "execution_count": 6,
      "outputs": [
        {
          "output_type": "execute_result",
          "data": {
            "text/plain": [
              "array([[6],\n",
              "       [9],\n",
              "       [9],\n",
              "       [4],\n",
              "       [1]], dtype=uint8)"
            ]
          },
          "metadata": {},
          "execution_count": 6
        }
      ]
    },
    {
      "cell_type": "code",
      "source": [
        "y_train = y_train.reshape(-1,) #in numpy to reshape we use reshape function u dont want to change dimension u say -1 so it will remain 10000(test shape) \n",
        "y_train[:5]"
      ],
      "metadata": {
        "colab": {
          "base_uri": "https://localhost:8080/"
        },
        "id": "NDDh89AgJ1LS",
        "outputId": "3206c93f-505a-4297-c6b7-41f32e5bb41e"
      },
      "execution_count": 37,
      "outputs": [
        {
          "output_type": "execute_result",
          "data": {
            "text/plain": [
              "array([6, 9, 9, 4, 1], dtype=uint8)"
            ]
          },
          "metadata": {},
          "execution_count": 37
        }
      ]
    },
    {
      "cell_type": "code",
      "source": [
        "classes = [\"airplane\",\"automobile\",\"bird\",\"cat\",\"deer\",\"dog\",\"frog\",\"horse\",\"ship\",\"truck\"]\n"
      ],
      "metadata": {
        "id": "9bIXgH33JXcc"
      },
      "execution_count": 8,
      "outputs": []
    },
    {
      "cell_type": "code",
      "source": [
        "classes[2]"
      ],
      "metadata": {
        "colab": {
          "base_uri": "https://localhost:8080/",
          "height": 35
        },
        "id": "j5iDOhp-b2Bn",
        "outputId": "5acb2e6b-ade0-4ade-de1d-3d11824382aa"
      },
      "execution_count": 75,
      "outputs": [
        {
          "output_type": "execute_result",
          "data": {
            "application/vnd.google.colaboratory.intrinsic+json": {
              "type": "string"
            },
            "text/plain": [
              "'bird'"
            ]
          },
          "metadata": {},
          "execution_count": 75
        }
      ]
    },
    {
      "cell_type": "code",
      "source": [
        "def plot_sample( X, y, index):\n",
        "  plt.figure(figsize = (15,2))\n",
        "  plt.imshow(X[index])\n",
        "  plt.xlabel(classes[y[index]])"
      ],
      "metadata": {
        "id": "gapfhcn_ITIJ"
      },
      "execution_count": 76,
      "outputs": []
    },
    {
      "cell_type": "code",
      "source": [
        "plot_sample(X_train, y_train, 2)\n"
      ],
      "metadata": {
        "colab": {
          "base_uri": "https://localhost:8080/",
          "height": 394
        },
        "id": "K63b3hf0IXUO",
        "outputId": "35148bf6-e7d9-464d-cda7-05241202efd7"
      },
      "execution_count": 77,
      "outputs": [
        {
          "output_type": "error",
          "ename": "TypeError",
          "evalue": "ignored",
          "traceback": [
            "\u001b[0;31m---------------------------------------------------------------------------\u001b[0m",
            "\u001b[0;31mTypeError\u001b[0m                                 Traceback (most recent call last)",
            "\u001b[0;32m<ipython-input-77-a75bc507ceb6>\u001b[0m in \u001b[0;36m<module>\u001b[0;34m()\u001b[0m\n\u001b[0;32m----> 1\u001b[0;31m \u001b[0mplot_sample\u001b[0m\u001b[0;34m(\u001b[0m\u001b[0mX_train\u001b[0m\u001b[0;34m,\u001b[0m \u001b[0my_train\u001b[0m\u001b[0;34m,\u001b[0m \u001b[0;36m2\u001b[0m\u001b[0;34m)\u001b[0m\u001b[0;34m\u001b[0m\u001b[0;34m\u001b[0m\u001b[0m\n\u001b[0m",
            "\u001b[0;32m<ipython-input-76-436d427ddd34>\u001b[0m in \u001b[0;36mplot_sample\u001b[0;34m(X, y, index)\u001b[0m\n\u001b[1;32m      2\u001b[0m   \u001b[0mplt\u001b[0m\u001b[0;34m.\u001b[0m\u001b[0mfigure\u001b[0m\u001b[0;34m(\u001b[0m\u001b[0mfigsize\u001b[0m \u001b[0;34m=\u001b[0m \u001b[0;34m(\u001b[0m\u001b[0;36m15\u001b[0m\u001b[0;34m,\u001b[0m\u001b[0;36m2\u001b[0m\u001b[0;34m)\u001b[0m\u001b[0;34m)\u001b[0m\u001b[0;34m\u001b[0m\u001b[0;34m\u001b[0m\u001b[0m\n\u001b[1;32m      3\u001b[0m   \u001b[0mplt\u001b[0m\u001b[0;34m.\u001b[0m\u001b[0mimshow\u001b[0m\u001b[0;34m(\u001b[0m\u001b[0mX\u001b[0m\u001b[0;34m[\u001b[0m\u001b[0mindex\u001b[0m\u001b[0;34m]\u001b[0m\u001b[0;34m)\u001b[0m\u001b[0;34m\u001b[0m\u001b[0;34m\u001b[0m\u001b[0m\n\u001b[0;32m----> 4\u001b[0;31m   \u001b[0mplt\u001b[0m\u001b[0;34m.\u001b[0m\u001b[0mxlabel\u001b[0m\u001b[0;34m(\u001b[0m\u001b[0mclasses\u001b[0m\u001b[0;34m[\u001b[0m\u001b[0my\u001b[0m\u001b[0;34m[\u001b[0m\u001b[0mindex\u001b[0m\u001b[0;34m]\u001b[0m\u001b[0;34m]\u001b[0m\u001b[0;34m)\u001b[0m\u001b[0;34m\u001b[0m\u001b[0;34m\u001b[0m\u001b[0m\n\u001b[0m",
            "\u001b[0;31mTypeError\u001b[0m: only integer scalar arrays can be converted to a scalar index"
          ]
        },
        {
          "output_type": "display_data",
          "data": {
            "image/png": "[encoded data removed]",
            "text/plain": [
              "<Figure size 1080x144 with 1 Axes>"
            ]
          },
          "metadata": {
            "needs_background": "light"
          }
        }
      ]
    },
    {
      "cell_type": "markdown",
      "source": [
        "### Normalize the images to a number from 0 to 1. Image has 3 channels (R,G,B) and each value in the channel can range from 0 to 255. Hence to normalize in 0-->1 range, we need to divide it by 255"
      ],
      "metadata": {
        "id": "8S7U_n5YcyrI"
      }
    },
    {
      "cell_type": "code",
      "source": [
        "X_train = X_train / 255.0\n",
        "X_test = X_test / 255.0"
      ],
      "metadata": {
        "id": "_m8EGEkOdB7Q"
      },
      "execution_count": 49,
      "outputs": []
    },
    {
      "cell_type": "markdown",
      "source": [
        "Build simple artificial neural network for image classification\n"
      ],
      "metadata": {
        "id": "SVjG9uordi7f"
      }
    },
    {
      "cell_type": "code",
      "source": [
        "ann = models.Sequential([\n",
        "        layers.Flatten(input_shape=(32,32,3)),\n",
        "        layers.Dense(3000, activation='relu'), #3000 neurons\n",
        "        layers.Dense(1000, activation='relu'), #1000 neurons\n",
        "        layers.Dense(10, activation='softmax')    #last layer say we have 10 categories\n",
        "    ])\n",
        "\n",
        "ann.compile(optimizer='SGD',\n",
        "              loss='sparse_categorical_crossentropy',\n",
        "              metrics=['accuracy'])\n",
        "\n",
        "ann.fit(X_train, y_train, epochs=5)"
      ],
      "metadata": {
        "colab": {
          "base_uri": "https://localhost:8080/"
        },
        "id": "i-8VkhgTdmGt",
        "outputId": "dca361a4-9b6d-4eb4-eaf4-18baa172957f"
      },
      "execution_count": 19,
      "outputs": [
        {
          "output_type": "stream",
          "name": "stdout",
          "text": [
            "Epoch 1/5\n",
            "1563/1563 [==============================] - 69s 44ms/step - loss: 2.3010 - accuracy: 0.1252\n",
            "Epoch 2/5\n",
            "1563/1563 [==============================] - 62s 39ms/step - loss: 2.2999 - accuracy: 0.1310\n",
            "Epoch 3/5\n",
            "1563/1563 [==============================] - 62s 40ms/step - loss: 2.2990 - accuracy: 0.1342\n",
            "Epoch 4/5\n",
            "1563/1563 [==============================] - 62s 40ms/step - loss: 2.2981 - accuracy: 0.1538\n",
            "Epoch 5/5\n",
            "1563/1563 [==============================] - 62s 40ms/step - loss: 2.2971 - accuracy: 0.1527\n"
          ]
        },
        {
          "output_type": "execute_result",
          "data": {
            "text/plain": [
              "<keras.callbacks.History at 0x7fdfa9f113d0>"
            ]
          },
          "metadata": {},
          "execution_count": 19
        }
      ]
    },
    {
      "cell_type": "code",
      "source": [
        "ann.evaluate(X_test,y_test)"
      ],
      "metadata": {
        "colab": {
          "base_uri": "https://localhost:8080/"
        },
        "id": "bfMaX0wZg7Kt",
        "outputId": "de07b065-db9d-4bb6-9258-6e0ca4d07a7e"
      },
      "execution_count": 21,
      "outputs": [
        {
          "output_type": "stream",
          "name": "stdout",
          "text": [
            "313/313 [==============================] - 5s 16ms/step - loss: 2.2961 - accuracy: 0.1318\n"
          ]
        },
        {
          "output_type": "execute_result",
          "data": {
            "text/plain": [
              "[2.296114921569824, 0.13179999589920044]"
            ]
          },
          "metadata": {},
          "execution_count": 21
        }
      ]
    },
    {
      "cell_type": "code",
      "source": [
        "from sklearn.metrics import confusion_matrix , classification_report\n",
        "import numpy as np\n",
        "y_pred = ann.predict(X_test)\n",
        "y_pred_classes = [np.argmax(element) for element in y_pred]\n",
        "\n",
        "print(\"Classification Report: \\n\", classification_report(y_test, y_pred_classes))"
      ],
      "metadata": {
        "colab": {
          "base_uri": "https://localhost:8080/"
        },
        "id": "andJPSFmfEul",
        "outputId": "7a91729d-773f-4c99-cadb-8253325454e4"
      },
      "execution_count": 20,
      "outputs": [
        {
          "output_type": "stream",
          "name": "stdout",
          "text": [
            "Classification Report: \n",
            "               precision    recall  f1-score   support\n",
            "\n",
            "           0       0.42      0.13      0.20      1000\n",
            "           1       0.00      0.00      0.00      1000\n",
            "           2       0.00      0.00      0.00      1000\n",
            "           3       0.25      0.00      0.00      1000\n",
            "           4       0.16      0.32      0.22      1000\n",
            "           5       0.00      0.00      0.00      1000\n",
            "           6       0.33      0.00      0.00      1000\n",
            "           7       0.11      0.80      0.19      1000\n",
            "           8       0.00      0.00      0.00      1000\n",
            "           9       0.28      0.06      0.10      1000\n",
            "\n",
            "    accuracy                           0.13     10000\n",
            "   macro avg       0.16      0.13      0.07     10000\n",
            "weighted avg       0.16      0.13      0.07     10000\n",
            "\n"
          ]
        },
        {
          "output_type": "stream",
          "name": "stderr",
          "text": [
            "/usr/local/lib/python3.7/dist-packages/sklearn/metrics/_classification.py:1318: UndefinedMetricWarning: Precision and F-score are ill-defined and being set to 0.0 in labels with no predicted samples. Use `zero_division` parameter to control this behavior.\n",
            "  _warn_prf(average, modifier, msg_start, len(result))\n",
            "/usr/local/lib/python3.7/dist-packages/sklearn/metrics/_classification.py:1318: UndefinedMetricWarning: Precision and F-score are ill-defined and being set to 0.0 in labels with no predicted samples. Use `zero_division` parameter to control this behavior.\n",
            "  _warn_prf(average, modifier, msg_start, len(result))\n",
            "/usr/local/lib/python3.7/dist-packages/sklearn/metrics/_classification.py:1318: UndefinedMetricWarning: Precision and F-score are ill-defined and being set to 0.0 in labels with no predicted samples. Use `zero_division` parameter to control this behavior.\n",
            "  _warn_prf(average, modifier, msg_start, len(result))\n"
          ]
        }
      ]
    },
    {
      "cell_type": "code",
      "source": [
        "cnn = models.Sequential([\n",
        "    layers.Conv2D(filters=32, kernel_size=(3, 3), activation='relu', input_shape=(32, 32, 3)),#it will detect 32 diffferent edges/feature in an image.\n",
        "    #3x3 kernel or fikter\n",
        "    layers.MaxPooling2D((2, 2)), #relu is less expensive\n",
        "    #2nd layer\n",
        "    layers.Conv2D(filters=64, kernel_size=(3, 3), activation='relu'),\n",
        "    layers.MaxPooling2D((2, 2)),\n",
        "    \n",
        "    layers.Flatten(), #network can automate shape automatically so u dont need to figure out the shape\n",
        "    layers.Dense(64, activation='relu'),\n",
        "    layers.Dense(10, activation='softmax')#activation function\n",
        "])"
      ],
      "metadata": {
        "id": "Qk4R28DUhNkC"
      },
      "execution_count": 50,
      "outputs": []
    },
    {
      "cell_type": "code",
      "source": [
        "cnn.compile(optimizer='adam', #adam give good accuracy\n",
        "              loss='sparse_categorical_crossentropy',\n",
        "              metrics=['accuracy'])"
      ],
      "metadata": {
        "id": "kJVtpiFapS7t"
      },
      "execution_count": 51,
      "outputs": []
    },
    {
      "cell_type": "code",
      "source": [
        "cnn.fit(X_train, y_train, epochs=10)\n"
      ],
      "metadata": {
        "colab": {
          "base_uri": "https://localhost:8080/"
        },
        "id": "Gk9fy-tIpi9y",
        "outputId": "1de9634b-c53d-4267-c4e0-116ddafee4cb"
      },
      "execution_count": 52,
      "outputs": [
        {
          "output_type": "stream",
          "name": "stdout",
          "text": [
            "Epoch 1/10\n",
            "1563/1563 [==============================] - 55s 35ms/step - loss: 1.5058 - accuracy: 0.4551\n",
            "Epoch 2/10\n",
            "1563/1563 [==============================] - 54s 35ms/step - loss: 1.1524 - accuracy: 0.5970\n",
            "Epoch 3/10\n",
            "1563/1563 [==============================] - 53s 34ms/step - loss: 1.0324 - accuracy: 0.6415\n",
            "Epoch 4/10\n",
            "1563/1563 [==============================] - 52s 34ms/step - loss: 0.9552 - accuracy: 0.6681\n",
            "Epoch 5/10\n",
            "1563/1563 [==============================] - 53s 34ms/step - loss: 0.8946 - accuracy: 0.6911\n",
            "Epoch 6/10\n",
            "1563/1563 [==============================] - 53s 34ms/step - loss: 0.8499 - accuracy: 0.7046\n",
            "Epoch 7/10\n",
            "1563/1563 [==============================] - 52s 34ms/step - loss: 0.8000 - accuracy: 0.7223\n",
            "Epoch 8/10\n",
            "1563/1563 [==============================] - 52s 33ms/step - loss: 0.7648 - accuracy: 0.7345\n",
            "Epoch 9/10\n",
            "1563/1563 [==============================] - 51s 33ms/step - loss: 0.7349 - accuracy: 0.7450\n",
            "Epoch 10/10\n",
            "1563/1563 [==============================] - 51s 33ms/step - loss: 0.7019 - accuracy: 0.7569\n"
          ]
        },
        {
          "output_type": "execute_result",
          "data": {
            "text/plain": [
              "<keras.callbacks.History at 0x7fdfa6f6afd0>"
            ]
          },
          "metadata": {},
          "execution_count": 52
        }
      ]
    },
    {
      "cell_type": "code",
      "source": [
        "cnn.evaluate(X_test,y_test)\n"
      ],
      "metadata": {
        "colab": {
          "base_uri": "https://localhost:8080/"
        },
        "id": "nkZJD1tKroQa",
        "outputId": "270180fe-cabe-49e5-a664-70be8c8eb7a1"
      },
      "execution_count": 53,
      "outputs": [
        {
          "output_type": "stream",
          "name": "stdout",
          "text": [
            "313/313 [==============================] - 4s 12ms/step - loss: 0.9175 - accuracy: 0.6891\n"
          ]
        },
        {
          "output_type": "execute_result",
          "data": {
            "text/plain": [
              "[0.9174596667289734, 0.6891000270843506]"
            ]
          },
          "metadata": {},
          "execution_count": 53
        }
      ]
    },
    {
      "cell_type": "code",
      "source": [
        "y_pred = cnn.predict(X_test)\n",
        "y_pred[:5]"
      ],
      "metadata": {
        "colab": {
          "base_uri": "https://localhost:8080/"
        },
        "id": "hV5tmGXnrzVy",
        "outputId": "af7fcf82-8e5b-4fdf-a81d-b07bbcfc5f9c"
      },
      "execution_count": 54,
      "outputs": [
        {
          "output_type": "execute_result",
          "data": {
            "text/plain": [
              "array([[8.6001316e-03, 1.2979556e-04, 1.2883801e-03, 4.8876244e-01,\n",
              "        2.0407970e-04, 2.7707857e-01, 1.4514119e-02, 4.7972752e-04,\n",
              "        2.0583102e-01, 3.1117224e-03],\n",
              "       [5.7931110e-04, 3.9911747e-02, 4.7814705e-05, 1.1575022e-05,\n",
              "        4.2220194e-07, 2.4457731e-06, 5.8182109e-06, 2.3977873e-07,\n",
              "        9.5737141e-01, 2.0692071e-03],\n",
              "       [3.3390917e-02, 2.3887862e-01, 1.7045854e-03, 9.5870821e-03,\n",
              "        7.4658426e-04, 1.9620387e-03, 7.9831301e-04, 2.9628740e-03,\n",
              "        6.5171611e-01, 5.8252912e-02],\n",
              "       [2.6517695e-01, 5.4579329e-01, 1.9038869e-03, 1.2681689e-03,\n",
              "        7.3875440e-04, 1.8121350e-04, 2.8697131e-04, 2.2007513e-04,\n",
              "        1.8153256e-01, 2.8982135e-03],\n",
              "       [8.4239191e-06, 4.0967352e-04, 2.0252649e-02, 3.7115194e-02,\n",
              "        3.4075978e-01, 1.2600963e-02, 5.8843809e-01, 2.9374507e-05,\n",
              "        3.5612236e-04, 2.9766432e-05]], dtype=float32)"
            ]
          },
          "metadata": {},
          "execution_count": 54
        }
      ]
    },
    {
      "cell_type": "code",
      "source": [
        "y_classes = [np.argmax(element) for element in y_pred]\n",
        "y_classes[:5]"
      ],
      "metadata": {
        "colab": {
          "base_uri": "https://localhost:8080/"
        },
        "id": "S3O9F0L6r8ZD",
        "outputId": "4eb7ff15-da73-459a-fbf6-041e767c00d0"
      },
      "execution_count": 55,
      "outputs": [
        {
          "output_type": "execute_result",
          "data": {
            "text/plain": [
              "[3, 8, 8, 1, 6]"
            ]
          },
          "metadata": {},
          "execution_count": 55
        }
      ]
    },
    {
      "cell_type": "code",
      "source": [
        "y_test = y_test.reshape(-1,)\n",
        "y_test[:5]\n"
      ],
      "metadata": {
        "colab": {
          "base_uri": "https://localhost:8080/"
        },
        "id": "dfhCHNu5sCMM",
        "outputId": "953214b4-a1de-48fd-9d8e-9323022e6d66"
      },
      "execution_count": 56,
      "outputs": [
        {
          "output_type": "execute_result",
          "data": {
            "text/plain": [
              "array([3, 8, 8, 0, 6], dtype=uint8)"
            ]
          },
          "metadata": {},
          "execution_count": 56
        }
      ]
    },
    {
      "cell_type": "code",
      "source": [
        "plot_sample(X_test, y_test,2)\n"
      ],
      "metadata": {
        "colab": {
          "base_uri": "https://localhost:8080/",
          "height": 173
        },
        "id": "C6NFX3DSsRhH",
        "outputId": "4226b984-5c8e-462a-a24c-447f3dfb2b30"
      },
      "execution_count": 78,
      "outputs": [
        {
          "output_type": "display_data",
          "data": {
            "image/png": "[encoded data removed]",
            "text/plain": [
              "<Figure size 1080x144 with 1 Axes>"
            ]
          },
          "metadata": {
            "needs_background": "light"
          }
        }
      ]
    },
    {
      "cell_type": "code",
      "source": [
        "classes[y_classes[2]]\n"
      ],
      "metadata": {
        "colab": {
          "base_uri": "https://localhost:8080/",
          "height": 35
        },
        "id": "GScFjstxseBa",
        "outputId": "94affac6-1628-49f9-ad8c-0e88565b20d9"
      },
      "execution_count": 74,
      "outputs": [
        {
          "output_type": "execute_result",
          "data": {
            "application/vnd.google.colaboratory.intrinsic+json": {
              "type": "string"
            },
            "text/plain": [
              "'ship'"
            ]
          },
          "metadata": {},
          "execution_count": 74
        }
      ]
    },
    {
      "cell_type": "code",
      "source": [
        ""
      ],
      "metadata": {
        "id": "ROihIEJvshEz"
      },
      "execution_count": null,
      "outputs": []
    }
  ]
}